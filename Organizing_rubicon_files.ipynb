{
 "cells": [
  {
   "cell_type": "code",
   "execution_count": 1,
   "metadata": {},
   "outputs": [],
   "source": [
    "#import all of your libraries\n",
    "import matplotlib.pyplot as plt\n",
    "import numpy as np\n",
    "from matplotlib import colors\n",
    "from matplotlib.ticker import PercentFormatter\n",
    "import gzip\n",
    "import pickle\n",
    "from collections import Counter\n",
    "import statistics\n",
    "import math\n",
    "import re\n",
    "import pandas as pd\n",
    "import seaborn as sns"
   ]
  },
  {
   "cell_type": "code",
   "execution_count": 2,
   "metadata": {
    "scrolled": true
   },
   "outputs": [
    {
     "data": {
      "text/plain": [
       "'/data/directory_name/directory_with_fastqs/new_UMI_folder'"
      ]
     },
     "execution_count": 2,
     "metadata": {},
     "output_type": "execute_result"
    }
   ],
   "source": [
    "#see where you are\n",
    "% pwd"
   ]
  },
  {
   "cell_type": "code",
   "execution_count": 3,
   "metadata": {
    "scrolled": true
   },
   "outputs": [
    {
     "name": "stdout",
     "output_type": "stream",
     "text": [
      "/data/directory_name/directory_with_fatsqs\n"
     ]
    }
   ],
   "source": [
    "#go to your desired folder will the downloaded fatsq\n",
    "cd ../../SRTP-project/"
   ]
  },
  {
   "cell_type": "code",
   "execution_count": 4,
   "metadata": {
    "scrolled": false
   },
   "outputs": [
    {
     "name": "stdout",
     "output_type": "stream",
     "text": [
      "IDT_001_S300_L005/IDT_001_S300_L005_R2_001.fasta\r\n",
      "\u001b[0m\u001b[01;32mIDT_001_S300_L005/IDT_001_S300_L005_R2_001.fastq\u001b[0m*\r\n",
      "\u001b[01;32mIDT_005_S299_L005/IDT_005_S299_L005_R1_001.fastq.gz\u001b[0m*\r\n",
      "\u001b[01;32mIDT_005_S299_L005/IDT_005_S299_L005_R2_001.fastq.gz\u001b[0m*\r\n",
      "\u001b[01;32mIDT_0_1_S302_L005/IDT_0_1_S302_L005_R1_001.fastq.gz\u001b[0m*\r\n",
      "\u001b[01;32mIDT_0_1_S302_L005/IDT_0_1_S302_L005_R2_001.fastq.gz\u001b[0m*\r\n",
      "\u001b[01;32mIDT_025_S304_L005/IDT_025_S304_L005_R1_001.fastq.gz\u001b[0m*\r\n",
      "\u001b[01;32mIDT_025_S304_L005/IDT_025_S304_L005_R2_001.fastq.gz\u001b[0m*\r\n",
      "\u001b[01;32mIDT_025x_S305_L005/IDT_025x_S305_L005_R1_001.fastq.gz\u001b[0m*\r\n",
      "\u001b[01;32mIDT_025x_S305_L005/IDT_025x_S305_L005_R2_001.fastq.gz\u001b[0m*\r\n",
      "\u001b[01;32mIDT_0_5_S301_L005/IDT_0_5_S301_L005_R1_001.fastq.gz\u001b[0m*\r\n",
      "\u001b[01;32mIDT_0_5_S301_L005/IDT_0_5_S301_L005_R2_001.fastq.gz\u001b[0m*\r\n",
      "\u001b[01;32mIDT_H2O_S303_L005/IDT_H2O_S303_L005_R1_001.fastq.gz\u001b[0m*\r\n",
      "\u001b[01;32mIDT_H2O_S303_L005/IDT_H2O_S303_L005_R2_001.fastq.gz\u001b[0m*\r\n",
      "rubi_001_S293_L005/last-12-commands.txt\r\n",
      "\u001b[01;32mrubi_001_S293_L005/rubi_001_S293_L005_R1_001.fastq.gz\u001b[0m*\r\n",
      "\u001b[01;32mrubi_001_S293_L005/rubi_001_S293_L005_R2_001.fastq.gz\u001b[0m*\r\n",
      "\u001b[01;32mrubi_005_S292_L005/rubi_005_S292_L005_R1_001.fastq.gz\u001b[0m*\r\n",
      "\u001b[01;31mrubi_005_S292_L005/rubi_005_S292_L005_R1_001.SHORT.fastq.gz\u001b[0m\r\n",
      "\u001b[01;32mrubi_005_S292_L005/rubi_005_S292_L005_R2_001.fastq.gz\u001b[0m*\r\n",
      "\u001b[01;31mrubi_005_S292_L005/rubi_SHORT_TEST_FILE.fastq.gz\u001b[0m\r\n",
      "\u001b[01;31mrubi_005_S292_L005/rubi_SHORT_TEST_FILE_R2.fastq.gz\u001b[0m\r\n",
      "\u001b[01;32mrubi_0_1_S295_L005/rubi_0_1_S295_L005_R1_001.fastq.gz\u001b[0m*\r\n",
      "\u001b[01;32mrubi_0_1_S295_L005/rubi_0_1_S295_L005_R2_001.fastq.gz\u001b[0m*\r\n",
      "\u001b[01;32mrubi_025_S297_L005/rubi_025_S297_L005_R1_001.fastq.gz\u001b[0m*\r\n",
      "\u001b[01;32mrubi_025_S297_L005/rubi_025_S297_L005_R2_001.fastq.gz\u001b[0m*\r\n",
      "\u001b[01;32mrubi_025x_S298_L005/rubi_025x_S298_L005_R1_001.fastq.gz\u001b[0m*\r\n",
      "\u001b[01;32mrubi_025x_S298_L005/rubi_025x_S298_L005_R2_001.fastq.gz\u001b[0m*\r\n",
      "\u001b[01;32mrubi_0_5_S294_L005/rubi_0_5_S294_L005_R1_001.fastq.gz\u001b[0m*\r\n",
      "\u001b[01;32mrubi_0_5_S294_L005/rubi_0_5_S294_L005_R2_001.fastq.gz\u001b[0m*\r\n",
      "\u001b[01;32mrubi_H2O_S296_L005/rubi_H2O_S296_L005_R1_001.fastq.gz\u001b[0m*\r\n",
      "\u001b[01;32mrubi_H2O_S296_L005/rubi_H2O_S296_L005_R2_001.fastq.gz\u001b[0m*\r\n"
     ]
    }
   ],
   "source": [
    "#list all of your files to select which fastqs you want to analyze\n",
    "ls */*"
   ]
  },
  {
   "cell_type": "code",
   "execution_count": 5,
   "metadata": {},
   "outputs": [],
   "source": [
    "#open the recently unzipped file and put it in a readable version\n",
    "#step 1\n",
    "def read_in_UMI_file_1_2(UMI_file):\n",
    "    \"\"\"opening and reading a zipped UMI fastq file (in a readable version) and reading in the lines\"\"\"\n",
    "    #reading in the file and converting the bite strings to strings\n",
    "    with gzip.open(UMI_file, 'rb') as file_2:\n",
    "        #read the lines of the list in the file\n",
    "        file_list_UMI_2 = file_2.readlines()\n",
    "    #returning the file\n",
    "    return(file_list_UMI_2)\n",
    "\n",
    "#https://pythonadventures.wordpress.com/2010/10/19/hamming-distance/\n",
    "def hamming_distance(s1, s2):\n",
    "    assert len(s1) == len(s2)\n",
    "    return sum(ch1 != ch2 for ch1, ch2 in zip(s1, s2))\n",
    "    \n",
    "#step 2 (do for each file you want to read in; Read 1 and Read 2) with UMIs that are 6bp in length (for each read)!\n",
    "def UMI_code(file_list_UMI_R1, file_list_UMI_R2):\n",
    "    \"\"\"using an opened UMI fastq file R1 anf R2 to cut out ONLY the UMI's on the same read \n",
    "    and combining the UMIs in R1 to R2 \n",
    "    (on the 2nd line of each entry) \n",
    "    and add it to a dictionary (counting the number of occurances of each glued UMI)\"\"\"\n",
    "    #making a dictionary of UMIs R1 and R2 to count later\n",
    "    dictionary_UMIs_R1_R2_glued = {}\n",
    "    #staring the count of the lines\n",
    "    count = 1\n",
    "    R1_R2 = zip(file_list_UMI_R1, file_list_UMI_R2)\n",
    "    #looking at each line in Read 1 and Read 2 file that are on the same line\n",
    "    for each_line, the_same_line in R1_R2:\n",
    "        #print(count) if you want\n",
    "        #decode each bite string into a string\n",
    "        each_line = each_line.decode(\"utf-8\")\n",
    "        the_same_line = the_same_line.decode(\"utf-8\")\n",
    "        #split each line at the 0 position\n",
    "        each_line_2 = each_line.split(\" \")[0]\n",
    "        the_same_line_2 = the_same_line.split(\" \")[0]\n",
    "        #if the count is divisable by 4 with a remainder of 1 (the 1st line of the fatsq)\n",
    "        if count %4 == 1:\n",
    "            #if the line value in Read 1 does not equal the line value in Read 2:\n",
    "            if each_line_2 != the_same_line_2:\n",
    "                #raise an error\n",
    "                raise ValueError('error in read ordering. R1 and R2 are not in similar order.' + str(count) + 'read line where error is occurring.')\n",
    "        #now, if the count is divisable by 4 with a remainder of 2 (the second line of the fastq)\n",
    "        if count %4 == 2:\n",
    "            #checking if there is the letter N at the first position (on the second line and every 4th line thereafter)\n",
    "            if each_line_2[0] == 'N' and the_same_line_2[0] == 'N':\n",
    "                #checking to see if the glued UMI is in the dictionary\n",
    "                if (each_line_2[1:6] + the_same_line_2[1:6]) in dictionary_UMIs_R1_R2_glued:\n",
    "                    #if it is in the dicitonary, add 1\n",
    "                    dictionary_UMIs_R1_R2_glued[each_line_2[1:6] + the_same_line_2[1:6]] += 1\n",
    "                #if it is not in the dictionary add it to the dictioinary and start the count at 1\n",
    "                else:\n",
    "                    dictionary_UMIs_R1_R2_glued[each_line_2[1:6] + the_same_line_2[1:6]] = 1\n",
    "            #add the UMIs to the dicitonary at position 0-6 (if the string does not start with the letter N)\n",
    "            else:\n",
    "                #if the UMIs are already in the dicitonary:\n",
    "                if (each_line_2[0:6] + the_same_line_2[0:6]) in dictionary_UMIs_R1_R2_glued:\n",
    "                    #add the value 1\n",
    "                    dictionary_UMIs_R1_R2_glued[each_line_2[0:6] + the_same_line_2[0:6]] += 1\n",
    "                #if it is not in the dicitonary, add it to the dictionary and start the count at 1\n",
    "                else:\n",
    "                    dictionary_UMIs_R1_R2_glued[each_line_2[0:6] + the_same_line_2[0:6]] = 1\n",
    "        #increase the count each time in your for loop\n",
    "        count += 1\n",
    "    #return your new dictionary with R1 and R2 UMIs glued together and ther values of occurance\n",
    "    return(dictionary_UMIs_R1_R2_glued)"
   ]
  },
  {
   "cell_type": "code",
   "execution_count": 323,
   "metadata": {},
   "outputs": [],
   "source": [
    "#using the functions (do this for each pair of gzipped fastq files)\n",
    "UMI_open_list_R1 = read_in_UMI_file('rubi_005_S292_L005/rubi_005_S292_L005_R1_001.fastq.gz')\n",
    "#using the functions\n",
    "UMI_open_list_R2 = read_in_UMI_file('rubi_005_S292_L005/rubi_005_S292_L005_R2_001.fastq.gz')\n",
    "#defining the variable (calling the function)\n",
    "UMI_dictionary_R1_R2 = UMI_code(UMI_open_list_R1, UMI_open_list_R2)\n",
    "#pickling a file (saving a file to disk on the server) with the UMI dicitonary and its new text file\n",
    "pickle.dump(UMI_dictionary_R1_R2, open('rubicon_005_S299_R1_R2_UMI_dictionary_glued', 'wb'))"
   ]
  },
  {
   "cell_type": "code",
   "execution_count": 6,
   "metadata": {},
   "outputs": [],
   "source": [
    "#opening the pickled file into a readable file\n",
    "rubicon_005_R1_R2_dictionary_glued = pickle.load(open('rubicon_005_S299_R1_R2_UMI_dictionary_glued','rb'))"
   ]
  },
  {
   "cell_type": "code",
   "execution_count": 13,
   "metadata": {},
   "outputs": [
    {
     "data": {
      "image/png": "[encoded data removed]",
      "text/plain": [
       "<Figure size 864x360 with 2 Axes>"
      ]
     },
     "metadata": {},
     "output_type": "display_data"
    }
   ],
   "source": [
    "#add hamming distance here (if you want):\n",
    "#x= hamming\n",
    "#setting the x and y axis inputs to the dictionary keys and dictionary values\n",
    "x = list(rubicon_H2O_R1_R2_dictionary_glued.keys())\n",
    "y = list(rubicon_H2O_R1_R2_dictionary_glued.values())\n",
    "#labeling the figures and axes\n",
    "fig, axs1 = plt.subplots(figsize = (12,5)) \n",
    "#adding the x and y labels on each axis\n",
    "axs1.set_xlabel('Number of Reads Associated with Individual UMI', fontsize = 18)\n",
    "axs1.set_ylabel('Amount of UMIs', fontsize = 18)\n",
    "#second y axes:\n",
    "axs2 = axs1.twinx()\n",
    "axs2.set_ylabel('Cumulative Fraction of UMIs', fontsize = 18)\n",
    "\n",
    "\n",
    "#setting the bins on the x axis to log base 2 (if you want)\n",
    "#my_bins = np.logspace(np.log2(min(y)), np.log2(max(y) + 100), base = 2)\n",
    "my_bins = 45\n",
    "axs1.hist(y, density = False, align = 'mid', log = True, bins = my_bins, rwidth = .9)\n",
    "\n",
    "n_bins = 45\n",
    "#setting the percent line\n",
    "#making the bins and counting the bins\n",
    "counts, bin_edges = np.histogram(y, bins = n_bins, normed = True)\n",
    "#emptying the buckets or bins\n",
    "counts = np.zeros(len(counts))\n",
    "#spacing out the bins\n",
    "for each_variable in y:\n",
    "    #for each_edge in bin_edges:\n",
    "    for ele_position, each_edge in enumerate(bin_edges):\n",
    "        #if every count is in the bin (in the domain of the bin)\n",
    "        if each_variable < each_edge:\n",
    "        #add each_variable to count[each_variable]\n",
    "            #counts[ele_position - 1] + each_variable\n",
    "            counts[ele_position -1] = counts[ele_position - 1] + each_variable\n",
    "            #break at that bin\n",
    "            break\n",
    "#making the cumulative distribution\n",
    "cdf = np.cumsum(counts)\n",
    "\n",
    "#setting the bin edges in the second graph 2\n",
    "axs2.plot(bin_edges[1:], cdf/cdf[-1], color = 'k')\n",
    "\n",
    "#setting the x and y scales to linear or log and the range and domain of the axes\n",
    "axs1.set_yscale('log')\n",
    "#axs1.set_xscale('log', basex = 2)\n",
    "axs1.set_xscale('linear')\n",
    "axs2.set_yscale('linear')\n",
    "axs1.set_xlim(0,55)\n",
    "axs2.set_ylim(0,1.5)\n",
    "\n",
    "#setting the ticklabel size\n",
    "axs1.tick_params(labelsize = 'xx-large')\n",
    "axs2.tick_params(labelsize = 'xx-large')\n",
    "\n",
    "#adding an average distribution line\n",
    "#plt.axvline(y.mean(), color = 'k', linestyle = 'dashed', linewidth = 1)\n",
    "\n",
    "#adding the graph titles\n",
    "fig.suptitle('Categorical Plotting of UMIs with 5ng (Top) and Blank (Bottom) HeLa RNA Input and Cumulative Fraction of UMI Occurance')\n",
    "#saving the figure in png format\n",
    "fig.savefig('rubicon_H2O_R1_R2_dictionary_glued_log2_linear%.png')"
   ]
  },
  {
   "cell_type": "code",
   "execution_count": 15,
   "metadata": {},
   "outputs": [
    {
     "data": {
      "text/plain": [
       "array([ 1.        ,  1.55555556,  2.11111111,  2.66666667,  3.22222222,\n",
       "        3.77777778,  4.33333333,  4.88888889,  5.44444444,  6.        ,\n",
       "        6.55555556,  7.11111111,  7.66666667,  8.22222222,  8.77777778,\n",
       "        9.33333333,  9.88888889, 10.44444444, 11.        , 11.55555556,\n",
       "       12.11111111, 12.66666667, 13.22222222, 13.77777778, 14.33333333,\n",
       "       14.88888889, 15.44444444, 16.        , 16.55555556, 17.11111111,\n",
       "       17.66666667, 18.22222222, 18.77777778, 19.33333333, 19.88888889,\n",
       "       20.44444444, 21.        , 21.55555556, 22.11111111, 22.66666667,\n",
       "       23.22222222, 23.77777778, 24.33333333, 24.88888889, 25.44444444,\n",
       "       26.        ])"
      ]
     },
     "execution_count": 15,
     "metadata": {},
     "output_type": "execute_result"
    }
   ],
   "source": [
    "#Counter(rubicon_H2O_R1_R2_dictionary_glued).most_common()\n",
    "#to determine your bin edges and set them accordingly in your histogram\n",
    "bin_edges"
   ]
  },
  {
   "cell_type": "code",
   "execution_count": 75,
   "metadata": {},
   "outputs": [
    {
     "data": {
      "text/plain": [
       "4435970"
      ]
     },
     "execution_count": 75,
     "metadata": {},
     "output_type": "execute_result"
    }
   ],
   "source": [
    "#len(rubicon_005_R1_R2_dictionary_glued)\n",
    "#looking at the length of your dictionary\n",
    "len(rubicon_H2O_R1_R2_dictionary_glued)"
   ]
  },
  {
   "cell_type": "code",
   "execution_count": null,
   "metadata": {},
   "outputs": [],
   "source": [
    "#defining the function to write the most common UMIs in each dictionary into a new file\n",
    "def write_most_common_UMIs(UMI_dictionary, UMI_dictionary_name):\n",
    "    \"\"\"defining the function to write the 10 most common UMIs in the dictionary\n",
    "    and take out the amount of times the UMI occurs and divide it by the total amount of UMIs in the dicitonary\"\"\"\n",
    "    #opening a new file in a write version to write the most common UMIs and the percent they acocunt for the sample\n",
    "    most_common_UMIs = open(UMI_dictionary_name, 'w')\n",
    "    #for each UMI in the dicitonary:\n",
    "    #select the 10 most common UMIs\n",
    "    for each_word_UMI in Counter(UMI_dictionary).most_common(10):\n",
    "        #take the number of the UMI (how often it occurs) in the list of tuples \n",
    "        #and divide by the total value of dictionary\n",
    "        #x 100%\n",
    "        UMI_percent = each_word_UMI[1] / sum(UMI_dictionary.values()) * 100\n",
    "        #repeat for each 10 UMIs\n",
    "        UMI_name = each_word_UMI[0]\n",
    "        #add the UMI name with the percent on the same line\n",
    "        UMI_name_percent = (UMI_dictionary_name + \",\" + UMI_name + \",\" + str(UMI_percent) +'\\n')\n",
    "        \n",
    "        #write into the new file\n",
    "        most_common_UMIs.write(UMI_name_percent)\n",
    "\n",
    "    #close the new file\n",
    "    most_common_UMIs.close()    "
   ]
  },
  {
   "cell_type": "code",
   "execution_count": null,
   "metadata": {},
   "outputs": [],
   "source": [
    "#writing the new file with the top 10 UMIs and their percent of occruance in the entire sample\n",
    "#calling the function (dictionary you are looking at, the new file name you are writing into)\n",
    "write_most_common_UMIs(rubicon_005_R1_R2_dictionary_glued, 'rubi_0_5_R1_R2_UMIs_glued')\n",
    "\n",
    "write_most_common_UMIs(rubicon_005_R1_R2_dictionary_glued, 'rubi_005_R1_R2_UMIs_glued')\n",
    "\n",
    "write_most_common_UMIs(rubicon_0_1_R1_R2_dictionary_glued, 'rubi_0_1_R1_R2_UMIs_glued')\n",
    "\n",
    "write_most_common_UMIs(rubicon_025_R1_R2_dictionary_glued, 'rubi_025_R1_R2_UMIs_glued')\n",
    "\n",
    "write_most_common_UMIs(rubicon_001_R1_R2_dictionary_glued, 'rubi_001_R1_R2_UMIs_glued')\n",
    "\n",
    "write_most_common_UMIs(rubicon_H2O_R1_R2_dictionary_glued, 'rubi_H2O_R1_R2_UMIs_glued')"
   ]
  },
  {
   "cell_type": "code",
   "execution_count": 49,
   "metadata": {
    "scrolled": true
   },
   "outputs": [
    {
     "data": {
      "text/plain": [
       "[('AGATCGAGATCG', 26),\n",
       " ('CTGTCACGTGTG', 15),\n",
       " ('CCTTTACGTGTG', 14),\n",
       " ('TTGGCTCGTGTG', 13),\n",
       " ('TAAATCCGTGTG', 13),\n",
       " ('TGTCAACGTGTG', 13),\n",
       " ('GGTTATCGTGTG', 13),\n",
       " ('GTTTAGCGTGTG', 12),\n",
       " ('TTTATCTGGGTT', 12),\n",
       " ('TTGTATCGTGTG', 12)]"
      ]
     },
     "execution_count": 49,
     "metadata": {},
     "output_type": "execute_result"
    }
   ],
   "source": [
    "#quickly displaying the top 10 UMIs in the dictionary and the amount fo READS they account for in R1 and R2\n",
    "Counter(rubicon_005_R1_R2_dictionary_glued).most_common(10)"
   ]
  },
  {
   "cell_type": "code",
   "execution_count": 19,
   "metadata": {},
   "outputs": [],
   "source": [
    "def the_top_UMIs(most_common_UMI, file_that_UMI_corresponds_to):\n",
    "    \"\"\"defining a function to take the most common reads with the top UMI\n",
    "    and defining it as the reads with the most common UMI to use later\"\"\"\n",
    "    #with the most common UMI, sort through the fastq file and put it in a readable version:\n",
    "    #final all of the reads with that UMI in the fastq file\n",
    "    desired_list = read_in_UMI_file(file_that_UMI_corresponds_to)\n",
    "    position_count = 3\n",
    "    number_of_different_reads_with_the_same_UMI = 0\n",
    "    new_list_with_filtered_reads = []\n",
    "    for content in desired_list:\n",
    "        #make a new list of all of the reads and count the list (add 1)\n",
    "        if position_count %4 == 0:\n",
    "            position_count = 1\n",
    "            #make a new list with the read sequences\n",
    "            content = content.decode(\"utf-8\")\n",
    "            #check if UMI is there\n",
    "            if most_common_UMI in content[0:6]:\n",
    "                new_list_with_filtered_reads.append(content)\n",
    "        position_count += 1\n",
    "            #if the first element of the list does not equal the second element of the list add 1\n",
    "    new_count_in_new_list = 0\n",
    "    #for the read in the new list with filtered reads\n",
    "    #for content in new_list_with_filtered_reads:\n",
    "    #    if new_list_with_filtered_reads[0] != new_list_with_filtered_reads[1]: \n",
    "    #        new_count_in_new_list += 1\n",
    "    new_dictionary_with_UMIs_count = Counter(new_list_with_filtered_reads) \n",
    "    #for every_sequence in new_dictionary_with_UMIs_count.keys():\n",
    "        #for each_seq in new_dictionary_with_UMIs_count.keys():\n",
    "            #hamming_distance_count = hamming_distance(every_sequence, each_seq)\n",
    "            #print(hamming_distance_count)\n",
    "            #if hamming_distance_count > :      \n",
    "    print(len(new_dictionary_with_UMIs_count))\n",
    "    return(new_dictionary_with_UMIs_count)\n",
    "#def top_10_UMI_variance(reads_with_most_common_UMI):\n",
    "#\"\"\"making a function showing the amount of variance between all of the reads containging the most common UMI\n",
    "    #and the percent that UMI accounts for the entire sample\"\"\"\n",
    "    "
   ]
  },
  {
   "cell_type": "code",
   "execution_count": 117,
   "metadata": {},
   "outputs": [
    {
     "name": "stdout",
     "output_type": "stream",
     "text": [
      "240\n"
     ]
    }
   ],
   "source": [
    "top_1_10_UMIs_rubi_005 = the_top_UMIs('CGTGTGC', 'rubi_005_S292_L005/rubi_005_S292_L005_R1_001.fastq.gz')"
   ]
  },
  {
   "cell_type": "code",
   "execution_count": null,
   "metadata": {},
   "outputs": [],
   "source": [
    "#making a heat map with your top 1 UMI and all of its corresponding sequences and comparing them\n",
    "#manually insert top 10 UMI file name\n",
    "#WARNING: heat map not needed and has a long run time\n",
    "pandas_series = pd.Series(top_1_10_UMIs_IDT_005)\n",
    "pandas_series_sorted = pandas_series.sort_values(ascending = False)\n",
    "\n",
    "#print(pandas_series_sorted.head(30).index)\n",
    "dataframe_blank = {}\n",
    "pandas_series_sorted_array = []\n",
    "minimum_hamming_distance = 100000000\n",
    "maximum_hamming_distance = -100000000\n",
    "for each_series in pandas_series_sorted.index:\n",
    "    dataframe_blank[each_series] = {}\n",
    "    for every_index in pandas_series_sorted.index:\n",
    "        hamming_distance_count = hamming_distance(each_series, every_index)\n",
    "        \n",
    "        dataframe_blank[each_series][every_index] = hamming_distance_count\n",
    "        #print(hamming_distance_count)\n",
    "        if hamming_distance_count > 0:\n",
    "            hamming_distance_count_2 = hamming_distance_count\n",
    "            if hamming_distance_count_2 < minimum_hamming_distance:\n",
    "                minimum_hamming_distance = hamming_distance_count\n",
    "        if hamming_distance_count > maximum_hamming_distance:\n",
    "            maximum_hamming_distance = hamming_distance_count\n",
    "        if hamming_distance_count > 0:\n",
    "            pandas_series_sorted_array.append(hamming_distance_count)\n",
    "pandas_series_sorted_array.sort()\n",
    "#print(pandas_series_sorted_array)\n",
    "\n",
    "df = pd.DataFrame.from_dict(dataframe_blank)\n",
    "df = df[df.index]\n",
    "\n",
    "print(len(pandas_series_sorted.index))\n",
    "print(df.shape)\n",
    "\n",
    "plt.savefig('heatmap_plot.pdf', height=15, width=15)\n",
    "sns.heatmap(df, cmap = \"Blues_r\", xticklables = False, yticklables = False)\n"
   ]
  },
  {
   "cell_type": "code",
   "execution_count": 83,
   "metadata": {},
   "outputs": [
    {
     "name": "stdout",
     "output_type": "stream",
     "text": [
      "1\n",
      "105\n",
      "0\n"
     ]
    }
   ],
   "source": [
    "print(minimum_hamming_distance)\n",
    "print(maximum_hamming_distance)\n",
    "#print(pandas_series_sorted)"
   ]
  },
  {
   "cell_type": "code",
   "execution_count": null,
   "metadata": {
    "scrolled": true
   },
   "outputs": [],
   "source": [
    "pandas_series_sorted.head(n=100).plot(kind='bar')\n",
    "#making a fasta a file with the soted UMI and thair unique sequences (in the dictionary)\n",
    "top_1_10_UMIs_rubi_025 = open('top_1_10_UMIs_rubi_025.fasta', 'w')\n",
    "for every_sequence in top_1_10_UMIs_rubi_025.keys():\n",
    "    top_1_10_UMIs_rubi_025.write('>\\n' + every_sequence)\n",
    "top_1_10_UMIs_rubi_025.close()"
   ]
  },
  {
   "cell_type": "code",
   "execution_count": null,
   "metadata": {},
   "outputs": [],
   "source": [
    "def fasta_with_top_UMI_sequences(top_UMI, file_that_UMI_correcponds_to):\n",
    "    every_sequence_with_that_UMI = open('top_UMI_with_sequences','w')\n",
    "    for every_sequence_with_that_UMI in file_that_UMI_correcponds_to:\n",
    "        every_sequence_with_that_UMI.write('>\\n' + every_sequence_with_that_UMI)\n",
    "    every_sequence_with_that_UMI.close()"
   ]
  },
  {
   "cell_type": "code",
   "execution_count": null,
   "metadata": {},
   "outputs": [],
   "source": [
    "#defining a function to count the line that the sequence + specified UMI is on in each R1 and R2 files\n",
    "#WARNING: funtion not yet complete and has a long run time\n",
    "def UMI_sequences(specified_UMI, R1_file_that_UMI_corresponds_to, R2_file_that_UMI_corresponds_to):\n",
    "    \"\"\"using an opened UMI fastq file R1 and R2 to count which lines a sequence + specified UMI is on, \n",
    "    and writting all of those sequences to a new fasta file\n",
    "    to run cd hit once compressed\"\"\"\n",
    "    #making a fasta a file with the soted UMI and thair unique sequences (in the dictionary)\n",
    "    top_UMI_with_sequences = open('top_UMI_with_sequences.fasta', 'w')\n",
    "    #making a dictionary to write the line numbers and equivalent sequences in to\n",
    "    dictionary_of_UMI_lines_and_sequences_1 = {}\n",
    "    dictionary_of_UMI_lines_and_sequences_2 = {}\n",
    "    #count = 1\n",
    "    #unzipping the compressed files\n",
    "    argument_1 = specified_UMI[0:6]\n",
    "    argument_2 = specified_UMI[7:12]\n",
    "    #making a for loop to select each sequence in R1 and R2 with the specified UMI (on the same line)\n",
    "    #write the entire sequence (with that UMI) on to a new fasta file\n",
    "    zgrep_output_1 = ! zgrep -n ^$argument_1 $R1_file_that_UMI_corresponds_to\n",
    "    zgrep_output_2 = ! zgrep -n ^$argument_2 $R2_file_that_UMI_corresponds_to\n",
    "    #split the string (an element of the list) and compare the first element of the split string\n",
    "    #if the first element (a number) of the string in the first file, \n",
    "    #equals the first element (number) of the string in the second file, \n",
    "    #write the corresponding sequence (at position 1 of the string) to a new file\n",
    "    for each_sequence_1 in zgrep_output_1:\n",
    "        zgrep_output_1_number = each_sequence_1.split(\":\")[0]\n",
    "        zgrep_output_1_sequence = each_sequence_1.split(\":\")[1]\n",
    "        #add the zgrep output numbers (the 0 position) to the dictionary 1 as the keys\n",
    "        #add the zgrep output sequences (the 1 position) to the dicitonary 1 as the values\n",
    "        dictionary_of_UMI_lines_and_sequences_1([(each_sequence_1.split(\":\")[0], each_sequence_1.split(\":\")[1]) + '\\n'])\n",
    "    for each_sequence_2 in zgrep_output_2:\n",
    "        zgrep_output_2_number = each_sequencce_2.split(\":\")[0]\n",
    "        zgrep_output_2_sequence = each_sequence_2.split(\":\")[1]\n",
    "        #add the zgrep output numbers (the 0 position) to the dictionary 2 as the keys\n",
    "        #add the zgrep output sequences (the 1 position) to the dicitonary 2 as the values\n",
    "        dictionary_of_UMI_lines_and_sequences_2([(each_sequence_2.split(\":\")[0], each_sequence_2.split(\":\")[1]) + '\\n'])\n",
    "    for each_number_1 in dictionary_of_UMI_lines_and_sequences_1.keys():\n",
    "        if each_number_1 in dictionary_of_UMI_lines_and_sequences_2:\n",
    "            top_UMI_with_sequences.write(dictionary_of_UMI_lines_and_sequences_1[zgrep_output_1_number] + dictionary_of_UMI_lines_and_sequences_2[zgrep_output_2_number] + '\\n')\n",
    "    top_UMI_with_sequences.close()"
   ]
  },
  {
   "cell_type": "code",
   "execution_count": null,
   "metadata": {
    "scrolled": false
   },
   "outputs": [],
   "source": [
    "#calling the function with the top UMI (R! and R2 together) and the two files that UMI is from\n",
    "UMI_sequences('AGATCGAGATCG', 'rubi_025_S297_L005/rubi_025_S297_L005_R1_001.fastq.gz', 'rubi_025_S297_L005/rubi_025_S297_L005_R2_001.fastq.gz')"
   ]
  },
  {
   "cell_type": "code",
   "execution_count": null,
   "metadata": {},
   "outputs": [],
   "source": [
    "#test zgrep function\n",
    "R1_file_that_UMI_corresponds_to = 'rubi_025_S297_L005/rubi_025_S297_L005_R1_001.fastq.gz'\n",
    "R2_file_that_UMI_corresponds_to = 'rubi_025_S297_L005/rubi_025_S297_L005_R2_001.fastq.gz'\n",
    "specified_UMI = 'AGATCGAGATCG'\n",
    "#unzipping the compressed files\n",
    "argument_1 = specified_UMI[0:6]\n",
    "argument_2 = specified_UMI[7:12]\n",
    "#making a for loop to select each sequence in R1 and R2 with the specified UMI (on the same line)\n",
    "#write the entire sequence (with that UMI) on to a new fasta file\n",
    "zgrep_output_1 = ! zgrep -n ^$argument_1 $R1_file_that_UMI_corresponds_to\n",
    "zgrep_output_2 = ! zgrep -n ^$argument_2 $R2_file_that_UMI_corresponds_to\n",
    "#for each_output_1, each_output_2 in zgrep_output_1, zgrep_output_2:\n",
    "zgrep_output_1_split = zgrep_output_1.split(\":\")[0]\n",
    "zgrep_output_2_split = zgrep_output_2.split(\":\")[0]\n",
    "print(zgrep_output_1_split)\n",
    "print(zgrep_output_2_split)"
   ]
  },
  {
   "cell_type": "code",
   "execution_count": 45,
   "metadata": {},
   "outputs": [
    {
     "name": "stdout",
     "output_type": "stream",
     "text": [
      "17538\n",
      "3682\n"
     ]
    }
   ],
   "source": [
    "zgrep_output_1_split = zgrep_output_1[0].split(\":\")[0]\n",
    "zgrep_output_2_split = zgrep_output_2[0].split(\":\")[0]\n",
    "print(zgrep_output_1_split)\n",
    "print(zgrep_output_2_split)"
   ]
  },
  {
   "cell_type": "code",
   "execution_count": 34,
   "metadata": {},
   "outputs": [
    {
     "name": "stdout",
     "output_type": "stream",
     "text": [
      "17538:AGATCGAGTAGCTCACGCCCCCCCCCTCCACGCGCCCCGCGCGCGCGGGAGGGCGCGTGCCCCGCCGCGCGCCGGGACCGGGGTCCGGTGCGGAGTGCCCTTCGTCCTGGGAAACGGGGCGCGGC\n",
      "63626:AGATCGGTAGCTCAGGGGTGCGTCGGGTCTGCGAGAGCGCCAGCTATCCTGAGGGAAACTTCGGAGGGAACCAGCTACTAGATGGTTCGATTAGTCTTTCGCCCCTATACCCAGGTCGGACGACC\n",
      "86438:AGATCGTCAGTAGCTCACGTCCCCCGACCGGCGACCGGCCGCCGCCGGGCGCATTTCCACCGCGGCGGTGCGCCGCGACCGGCTCCGGGACGGCTGGGAAGGCCCGGCGGGGAAGGTGGCTCGGG\n",
      "92950:AGATCGAGTAGCTCACGCGCGCGTGGCCCCGAGAGAACCTCCCCCGGGCCCGACGGCGCGACCCGCCCGGGGCGCACTGGGGACAGTCCGCCCCGCCCCCCGACCCGCGCGCGGCACCCCCCCCG\n",
      "143114:AGATCGTCAGTAGCTCACGAGGCTCCGCGGCGCTGCCGTATCGTTCCGCCTGGGCGGGATTCTGACTTAGAGGCGTTCAGTCATAATCCCACAGATGGTAGCTTCGCCCCATTGGCTCCTCAGCC\n",
      "182118:AGATCGAGTAGCTCAAAACCATCCAATCGGTAGTAGCGACGGGCGGTGTGTACAAAGGGCAGGGACTTAATCAACGCAAGCTTATGACCCGCACTTACTGGGAATTCCTCGTTCATGGGGAATAA\n",
      "189726:AGATCGTCAGTAGCTCACCCATCACCCAGGTAGTGAGCATAGTACTCAGTAGGAAGTTAGCATAGTACTCAATAGGTAGTTTTTCTGTTCATGTCATTTGCCCACTTTTAATGTGGTTATTTGTT\n",
      "269494:AGATCGCAGTAGCTCAGTCAAAGTGAAGAAATTCAATGAAGCGCGGGTAAACGGCGGGAGTAACTATGACTCTCTTAAGGTAGCCAAATGCCTCGTCATCTAATTAGTGACGCGCATGAGCTACT\n",
      "271106:AGATCGAGTAGCTCACCCCTCTAAGAAGTTGGGGGACGCCGACCGCTCGGGGGTCGCGTAACTAGTTAGCATGCCAGAGTCTCGTTCGTTATCGGAATTAACCAGACAAATCGCTCCACCAACTA\n",
      "281750:AGATCGTCAGTAGCTCACGCCGGCAGGCGCGGGTAACCCGTTGAACCCCATTCGTGATGGGGATCGGGGATTGCAATTATTCCCCATGAACGAGGAATTCCCAGTAAGTGCGGGTCATAAGCTTG\n",
      "/bin/grep: write error: Broken pipe\n",
      "\n",
      "gzip: stdout: Broken pipe\n"
     ]
    }
   ],
   "source": [
    "! zgrep -n ^$argument_1 $R1_file_that_UMI_corresponds_to | head -10"
   ]
  },
  {
   "cell_type": "code",
   "execution_count": 33,
   "metadata": {},
   "outputs": [
    {
     "name": "stdout",
     "output_type": "stream",
     "text": [
      "AGATCG\r\n"
     ]
    }
   ],
   "source": [
    "!echo $argument_1"
   ]
  },
  {
   "cell_type": "code",
   "execution_count": null,
   "metadata": {},
   "outputs": [],
   "source": []
  }
 ],
 "metadata": {
  "kernelspec": {
   "display_name": "Python 3",
   "language": "python",
   "name": "python3"
  },
  "language_info": {
   "codemirror_mode": {
    "name": "ipython",
    "version": 3
   },
   "file_extension": ".py",
   "mimetype": "text/x-python",
   "name": "python",
   "nbconvert_exporter": "python",
   "pygments_lexer": "ipython3",
   "version": "3.6.5"
  }
 },
 "nbformat": 4,
 "nbformat_minor": 2
}
